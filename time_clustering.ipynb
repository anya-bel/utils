{
 "cells": [
  {
   "cell_type": "code",
   "execution_count": 1,
   "metadata": {},
   "outputs": [],
   "source": [
    "import datetime as dt\n",
    "import functools as ft\n",
    "import os\n",
    "\n",
    "import matplotlib.pyplot as plt\n",
    "import matplotlib.dates as mdates\n",
    "import numpy as np\n",
    "import pandas as pd\n",
    "import plotly.express as px\n",
    "from sklearn.decomposition import PCA\n",
    "from tslearn.clustering import KShape, TimeSeriesKMeans, TimeSeriesKMeans"
   ]
  },
  {
   "cell_type": "code",
   "execution_count": null,
   "metadata": {},
   "outputs": [],
   "source": [
    "seed = 0\n",
    "np.random.seed(seed)"
   ]
  },
  {
   "cell_type": "code",
   "execution_count": null,
   "metadata": {},
   "outputs": [],
   "source": [
    "X_train = TimeSeriesScalerMeanVariance().fit_transform(df)\n",
    "sz = X_train.shape[1]"
   ]
  },
  {
   "cell_type": "code",
   "execution_count": null,
   "metadata": {},
   "outputs": [],
   "source": [
    "X_train.shape"
   ]
  },
  {
   "cell_type": "code",
   "execution_count": null,
   "metadata": {},
   "outputs": [],
   "source": [
    "model = TimeSeriesKMeans(n_clusters=2, metric=\"dtw\",\n",
    "                         max_iter=10, random_state=seed)\n",
    "\n",
    "y_pred = model.fit_predict(X_train)"
   ]
  },
  {
   "cell_type": "code",
   "execution_count": null,
   "metadata": {},
   "outputs": [],
   "source": [
    "plt.figure(figsize=(15, 8))\n",
    "for yi in range(2):\n",
    "    plt.subplot(2, 1, 1 + yi)\n",
    "    dates = DATES\n",
    "    x = [dt.datetime.strptime(d,'%d-%m-%Y').date() for d in dates]\n",
    "    plt.gca().xaxis.set_major_formatter(mdates.DateFormatter('%d-%m-%Y'))\n",
    "    plt.gca().xaxis.set_major_locator(mdates.DayLocator(bymonthday=1))\n",
    "    for xx in X_train[y_pred == yi]:\n",
    "        plt.plot(x, xx.ravel(), \"k-\", alpha=.2)\n",
    "        plt.gca().xaxis.set_major_formatter(mdates.DateFormatter('%d-%m-%Y'))\n",
    "        plt.gca().xaxis.set_major_locator(mdates.DayLocator(interval=2))\n",
    "        plt.gcf().autofmt_xdate()\n",
    "    plt.plot(x, ks.cluster_centers_[yi].ravel(), \"r-\")\n",
    "    plt.title(\"Cluster %d\" % (yi + 1))\n",
    "\n",
    "plt.tight_layout()\n",
    "plt.show()"
   ]
  },
  {
   "cell_type": "code",
   "execution_count": null,
   "metadata": {},
   "outputs": [],
   "source": [
    "pca = PCA(n_components=2)\n",
    "pca.fit(X_train.reshape((X_train.shape[0], sz)))\n",
    "tr_X = pca.transform(X_train.reshape((X_train.shape[0], sx)))\n",
    "plt.rcParams[\"figure.figsize\"] = (15,8) \n",
    "\n",
    "u_labels = np.unique(y_pred)\n",
    "for i in u_labels:\n",
    "    plt.scatter(tr_X[y_pred == i , 0] , tr_X[y_pred == i , 1] , label = f'Кластер {i+1}')\n",
    "plt.legend()\n",
    "plt.show()"
   ]
  },
  {
   "cell_type": "code",
   "execution_count": null,
   "metadata": {},
   "outputs": [],
   "source": [
    "# kShape clustering\n",
    "ks = KShape(n_clusters=2, verbose=True, random_state=seed)\n",
    "y_pred = ks.fit_predict(X_train)"
   ]
  },
  {
   "cell_type": "code",
   "execution_count": null,
   "metadata": {},
   "outputs": [],
   "source": [
    "plt.figure(figsize=(15, 8))\n",
    "for yi in range(2):\n",
    "    plt.subplot(2, 1, 1 + yi)\n",
    "    dates = DATES\n",
    "    x = [dt.datetime.strptime(d,'%d-%m-%Y').date() for d in dates]\n",
    "    plt.gca().xaxis.set_major_formatter(mdates.DateFormatter('%d-%m-%Y'))\n",
    "    plt.gca().xaxis.set_major_locator(mdates.DayLocator(bymonthday=1))\n",
    "    for xx in X_train[y_pred == yi]:\n",
    "        plt.plot(x, xx.ravel(), \"k-\", alpha=.2)\n",
    "        plt.gca().xaxis.set_major_formatter(mdates.DateFormatter('%d-%m-%Y'))\n",
    "        plt.gca().xaxis.set_major_locator(mdates.DayLocator(interval=2))\n",
    "        plt.gcf().autofmt_xdate()\n",
    "    plt.plot(x, ks.cluster_centers_[yi].ravel(), \"r-\")\n",
    "    plt.title(\"Cluster %d\" % (yi + 1))\n",
    "\n",
    "plt.tight_layout()\n",
    "plt.show()"
   ]
  },
  {
   "cell_type": "code",
   "execution_count": null,
   "metadata": {},
   "outputs": [],
   "source": [
    "pca = PCA(n_components=2)\n",
    "pca.fit(X_train.reshape((X_train.shape[0], sz)))\n",
    "tr_X = pca.transform(X_train.reshape((X_train.shape[0], sx)))\n",
    "plt.rcParams[\"figure.figsize\"] = (15,8) \n",
    "\n",
    "u_labels = np.unique(y_pred)\n",
    "for i in u_labels:\n",
    "    plt.scatter(tr_X[y_pred == i , 0] , tr_X[y_pred == i , 1] , label = f'Кластер {i+1}')\n",
    "plt.legend()\n",
    "plt.show()"
   ]
  },
  {
   "cell_type": "code",
   "execution_count": null,
   "metadata": {},
   "outputs": [],
   "source": [
    "newdf = pd.DataFrame({'x':tr_X[:, 0],\n",
    "                      'y':tr_X[:, 1],\n",
    "                      'Кластер':[f'Кластер {x+1}' for x in y_pred]})\n",
    "fig = px.scatter(newdf, x=\"x\", y=\"y\", color=\"Кластер\", symbol='Направление', hover_data=['direction'], text='direction_outliers')\n",
    "fig.update_layout(paper_bgcolor=\"rgba(0,0,0,0)\", plot_bgcolor=\"rgba(0,0,0,0)\")\n",
    "fig.update_traces(textposition='top left')\n",
    "fig.show()"
   ]
  }
 ],
 "metadata": {
  "kernelspec": {
   "display_name": "Python 3",
   "language": "python",
   "name": "python3"
  },
  "language_info": {
   "codemirror_mode": {
    "name": "ipython",
    "version": 3
   },
   "file_extension": ".py",
   "mimetype": "text/x-python",
   "name": "python",
   "nbconvert_exporter": "python",
   "pygments_lexer": "ipython3",
   "version": "3.6.8"
  }
 },
 "nbformat": 4,
 "nbformat_minor": 4
}
